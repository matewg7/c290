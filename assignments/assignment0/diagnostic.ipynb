{
  "nbformat": 4,
  "nbformat_minor": 0,
  "metadata": {
    "colab": {
      "name": "diagnostic.ipynb",
      "provenance": [],
      "collapsed_sections": []
    },
    "kernelspec": {
      "name": "python3",
      "display_name": "Python 3"
    },
    "language_info": {
      "name": "python"
    }
  },
  "cells": [
    {
      "cell_type": "markdown",
      "source": [
        "Problem 1: What is the magnitude of $2 - \\sqrt{2}i$?\n",
        "\n",
        "Answer:"
      ],
      "metadata": {
        "id": "1XnaxDKj2uDD"
      }
    },
    {
      "cell_type": "markdown",
      "source": [
        "Problem 2: What is the complex conjugate of $e^\\frac{\\pi i}{3}$?\n",
        "\n",
        "Answer:"
      ],
      "metadata": {
        "id": "2yiwF3oL2iJL"
      }
    },
    {
      "cell_type": "markdown",
      "source": [
        "Problem 3: \n",
        "Compute $\\begin{pmatrix}\n",
        "-1&1\\\\\n",
        "3&-1\n",
        "\\end{pmatrix} \\cdot \n",
        "\\begin{pmatrix}\n",
        "0&1\\\\\n",
        "2&0\n",
        "\\end{pmatrix}$"
      ],
      "metadata": {
        "id": "yy3Tt71f23jw"
      }
    },
    {
      "cell_type": "markdown",
      "source": [
        "Problem 4: Determine which pairs of matrices below commute.\n",
        "\n",
        "(Matrices $A$ and $B$ are said to commute if $AB=BA$).\n",
        "\n",
        "(a) $$ \\begin{pmatrix}\n",
        "0 & 1\\\\\n",
        "1 & 0\n",
        "\\end{pmatrix} \\textrm{and} \\begin{pmatrix}\n",
        "1 & 0\\\\\n",
        "0 & 1\n",
        "\\end{pmatrix}$$\n",
        "\n",
        "(b) $$\\begin{pmatrix}\n",
        "0 & 1\\\\\n",
        "1 & 0\n",
        "\\end{pmatrix} \\textrm{and} \\begin{pmatrix}\n",
        "1 & 0\\\\\n",
        "0 & -1\n",
        "\\end{pmatrix}$$\n",
        "\n",
        "(c) $$\\begin{pmatrix}\n",
        "1 & 1\\\\\n",
        "1 & -1\n",
        "\\end{pmatrix} \\textrm{and} \\begin{pmatrix}\n",
        "0 & 1\\\\\n",
        "1 & 0\n",
        "\\end{pmatrix}$$\n",
        "\n",
        "(d) $$\\begin{pmatrix}\n",
        "1 & 1\\\\\n",
        "1 & -1\n",
        "\\end{pmatrix} \\textrm{and} \\begin{pmatrix}\n",
        "1 & 0\\\\\n",
        "0 & 1\n",
        "\\end{pmatrix}$$\n",
        "\n",
        "(e) $$\\begin{pmatrix}\n",
        "2 & 0\\\\\n",
        "0 & -1\n",
        "\\end{pmatrix} \\textrm{and} \\begin{pmatrix}\n",
        "3 & 0\\\\\n",
        "0 & 2\n",
        "\\end{pmatrix}$$"
      ],
      "metadata": {
        "id": "ap4kXp_C21CP"
      }
    },
    {
      "cell_type": "markdown",
      "source": [
        "Problem 5: What is (i.e., determine) a unit vector in\n",
        "$\\mathbb{R}^2$ that makes a $\\frac{\\pi}{4}$ angle with both the $x$- and $y$-axes?"
      ],
      "metadata": {
        "id": "W-eBQVq43cv-"
      }
    },
    {
      "cell_type": "markdown",
      "source": [
        "Problem 6:What is a real unit vector in\n",
        "$\\mathbb{R}^2$ orthogonal to$ \\begin{pmatrix}\n",
        "\\frac{1}{\\sqrt{3}}\\\\[0.5ex]\n",
        "\\frac{\\sqrt{2}}{\\sqrt{3}}\n",
        "\\end{pmatrix}$?"
      ],
      "metadata": {
        "id": "v1s3bAc23gPB"
      }
    },
    {
      "cell_type": "markdown",
      "source": [
        "Problem 7: What is the inner product \n",
        "between the vectors $\\begin{pmatrix}\n",
        "\\frac{\\sqrt{3}}{2}\\\\[0.5ex]\n",
        "\\frac{1}{2}\n",
        "\\end{pmatrix} \\textrm{and} \n",
        "\\begin{pmatrix}\n",
        "\\frac{1}{2}\\\\[0.5ex]\n",
        "\\frac{\\sqrt{3}}{2}\n",
        "\\end{pmatrix}$ ?"
      ],
      "metadata": {
        "id": "2vDgzk5t2-62"
      }
    },
    {
      "cell_type": "markdown",
      "source": [
        "Problem 8: And what is the angle between the two vectors in degrees?\n",
        "\n",
        "Answer: \n"
      ],
      "metadata": {
        "id": "oIkF4E_A3NbW"
      }
    },
    {
      "cell_type": "markdown",
      "source": [
        "Problem 9: Determine the eigenvalues of the matrix $\n",
        "\\begin{pmatrix}\n",
        "0&1\\\\\n",
        "1&0\n",
        "\\end{pmatrix} $\n",
        "\n",
        "Answer:\n"
      ],
      "metadata": {
        "id": "GELVhjJh3SO2"
      }
    },
    {
      "cell_type": "markdown",
      "source": [
        "Problem 10: Determine the eigenvector corresponding to the largest eigenvalue of the above matrix. \n",
        "\n",
        "What other eigenvectors does the matrix have?\n",
        "\n",
        "Answer: "
      ],
      "metadata": {
        "id": "ewVz_3e03V2j"
      }
    }
  ]
}